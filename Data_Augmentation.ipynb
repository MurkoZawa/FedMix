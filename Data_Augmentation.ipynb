{
 "cells": [
  {
   "cell_type": "code",
   "execution_count": 7,
   "id": "75eedcc0-5c57-4c20-a1ac-59794e2be832",
   "metadata": {},
   "outputs": [
    {
     "name": "stdout",
     "output_type": "stream",
     "text": [
      "Data augmentation completata.\n"
     ]
    }
   ],
   "source": [
    "import os\n",
    "import numpy as np\n",
    "from PIL import Image\n",
    "import imgaug.augmenters as iaa\n",
    "from imgaug.augmentables.segmaps import SegmentationMapsOnImage\n",
    "import glob\n",
    "\n",
    "# Definizione del percorso di input per le immagini e le etichette\n",
    "input_dir_images = r'./data/imagesTrAug'\n",
    "input_dir_labels = r'./data/labelsTrBW'\n",
    "\n",
    "# Definizione del percorso di output per le immagini e le etichette\n",
    "output_dir_images = r'./data/imagesTrFinal'\n",
    "output_dir_labels = r'./data/labelsTrFinal'\n",
    "\n",
    "# Creazione della directory di output se non esiste già\n",
    "os.makedirs(output_dir_images, exist_ok=True)\n",
    "os.makedirs(output_dir_labels, exist_ok=True)\n",
    "\n",
    "# Numero totale desiderato di immagini generate\n",
    "total_images_desired = 700\n",
    "\n",
    "# Definizione dell'augmenter con diverse trasformazioni\n",
    "augmenter = iaa.Sequential([\n",
    "    iaa.Affine(\n",
    "        scale=(0.8, 1.2),  # Zoom in/out\n",
    "        translate_percent={\"x\": (-0.2, 0.2), \"y\": (-0.2, 0.2)},  # Traslazione\n",
    "        rotate=(-45, 45),  # Rotazione\n",
    "        shear=(-16, 16),  # Shear\n",
    "    ),\n",
    "    iaa.Fliplr(0.5),  # Ribalta orizzontalmente con una probabilità del 50%\n",
    "    iaa.Flipud(0.5),  # Ribalta verticalmente con una probabilità del 50%\n",
    "    # Aggiungi altre trasformazioni desiderate qui\n",
    "])\n",
    "\n",
    "# Scansiona tutte le immagini nella directory di input\n",
    "image_files = sorted(glob.glob(os.path.join(input_dir_images, 'tnbc_*.png')))\n",
    "label_files = sorted(glob.glob(os.path.join(input_dir_labels, 'tnbc_*.png')))\n",
    "\n",
    "# Contatore per il numero totale di immagini generate\n",
    "total_images_created = 101  # Inizia da 104\n",
    "\n",
    "# Applica la data augmentation alle immagini e alle etichette\n",
    "for image_path, label_path in zip(image_files, label_files):\n",
    "    # Carica l'immagine\n",
    "    image = np.array(Image.open(image_path))\n",
    "    # Carica l'etichetta di segmentazione\n",
    "    label = np.array(Image.open(label_path))\n",
    "\n",
    "    # Applica la data augmentation sia all'immagine che all'etichetta\n",
    "    augmented = augmenter(image=image, segmentation_maps=SegmentationMapsOnImage(label, shape=image.shape))\n",
    "    augmented_image = augmented[0]\n",
    "    augmented_label = augmented[1].get_arr_int()  # Converti in array numpy\n",
    "\n",
    "    # Salva le immagini risultanti\n",
    "    Image.fromarray(augmented_image).save(os.path.join(output_dir_images, f\"tnbc_{total_images_created:03d}.png\"))\n",
    "    Image.fromarray(augmented_label).save(os.path.join(output_dir_labels, f\"tnbc_{total_images_created:03d}.png\"))\n",
    "\n",
    "    total_images_created += 1\n",
    "\n",
    "    # Esci se il numero totale di immagini generate è raggiunto\n",
    "    if total_images_created >= 250:\n",
    "        break\n",
    "\n",
    "print(\"Data augmentation completata.\")\n"
   ]
  },
  {
   "cell_type": "code",
   "execution_count": null,
   "id": "b3610213-3810-4a43-a27a-1a383a7aafa4",
   "metadata": {},
   "outputs": [],
   "source": []
  }
 ],
 "metadata": {
  "kernelspec": {
   "display_name": "Python 3 (ipykernel)",
   "language": "python",
   "name": "python3"
  },
  "language_info": {
   "codemirror_mode": {
    "name": "ipython",
    "version": 3
   },
   "file_extension": ".py",
   "mimetype": "text/x-python",
   "name": "python",
   "nbconvert_exporter": "python",
   "pygments_lexer": "ipython3",
   "version": "3.10.4"
  }
 },
 "nbformat": 4,
 "nbformat_minor": 5
}
